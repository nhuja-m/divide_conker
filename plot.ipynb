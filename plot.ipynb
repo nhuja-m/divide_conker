{
 "cells": [
  {
   "cell_type": "code",
   "execution_count": 1,
   "metadata": {},
   "outputs": [],
   "source": [
    "import numpy as np\n",
    "import matplotlib.pyplot as plt\n",
    "from astropy.io import fits"
   ]
  },
  {
   "cell_type": "code",
   "execution_count": 2,
   "metadata": {},
   "outputs": [],
   "source": [
    "\"\"\"\n",
    "\n",
    "@param: number of partitions in the catalog\n",
    "@return: w0 and b0 in that order\n",
    " \n",
    "\"\"\"\n",
    "\n",
    "def process_plain_grid(partitions):\n",
    "  w0 = []\n",
    "  b0 = []\n",
    "  \n",
    "  for i in range(1,partitions+1):\n",
    "    hdul = fits.open(\"./grids/dr12S_data_ex_par/W_p{i}_of_7.fits\".format(i=i))\n",
    "    data = hdul[1].data.field(0)\n",
    "    w0 = np.concatenate((w0, data), axis=None) \n",
    "\n",
    "  for i in range(1,partitions+1):\n",
    "    hdul = fits.open(\"./grids/dr12S_randoms_ex_par/B_p{i}_of_7.fits\".format(i=i))\n",
    "    data = hdul[1].data.field(0)\n",
    "    b0 = np.concatenate((b0, data), axis=None)\n",
    "\n",
    "  return w0, b0"
   ]
  },
  {
   "cell_type": "code",
   "execution_count": 3,
   "metadata": {},
   "outputs": [],
   "source": [
    "\"\"\"\n",
    "\n",
    "@param: number of partitions, number of sbins\n",
    "@return: dictionary of concatenated W1 values\n",
    "\n",
    "\"\"\"\n",
    "\n",
    "def process_all_w(partitions, sbins):\n",
    "  w1Bins = {}  # dict that stores info for all s bins\n",
    "  for s in range(sbins+1) :\n",
    "    this_sbin = \"w1_s{s}\".format(s=s)\n",
    "    oneBin = []\n",
    "\n",
    "    for i in range(1,partitions+1):\n",
    "      hdul = fits.open(\"./grids/dr12S_data_ex_par/W_{k}_0_0_RE_p{i}_of_7.fits\".format(k=s,i=i))\n",
    "      data = hdul[1].data.field(0)\n",
    "      oneBin = np.concatenate((oneBin, data), axis=None)\n",
    "    w1Bins[this_sbin] = oneBin\n",
    "\n",
    "  return w1Bins"
   ]
  },
  {
   "cell_type": "code",
   "execution_count": 4,
   "metadata": {},
   "outputs": [],
   "source": [
    "\"\"\"\n",
    "\n",
    "@param: number of partitions, number of sbins\n",
    "@return: dictionary of concatenated B1 values\n",
    "\n",
    "\"\"\"\n",
    "\n",
    "def process_all_b(partitions, sbins):\n",
    "  b1Bins = {}  # dict that stores info for all s bins\n",
    "  for s in range(sbins+1) :\n",
    "    this_sbin = \"b1_s{s}\".format(s=s)\n",
    "    oneBin = []\n",
    "\n",
    "    for i in range(1,partitions+1):\n",
    "      hdul = fits.open(\"./grids/dr12S_randoms_ex_par/B_{k}_0_0_RE_p{i}_of_7.fits\".format(k=s,i=i))\n",
    "      data = hdul[1].data.field(0)\n",
    "      oneBin = np.concatenate((oneBin, data), axis=None)\n",
    "    b1Bins[this_sbin] = oneBin\n",
    "\n",
    "  return b1Bins"
   ]
  },
  {
   "cell_type": "code",
   "execution_count": 5,
   "metadata": {},
   "outputs": [],
   "source": [
    "\"\"\"\n",
    "\n",
    "@param: s_index to plot, w0 from process_plain_grid, b0 from process_plain_grid, w1_dict from process_all_w\n",
    "@return: none\n",
    "\n",
    "\"\"\"\n",
    "def plot_hist(s_index, w0, b0, w1_dict, b1_dict):\n",
    "    toPlot_w1 = \"w1_s{i}\".format(i=s_index)\n",
    "    toPlot_b1 = \"b1_s{j}\".format(j=s_index)\n",
    "    w1 = w1_dict[toPlot_w1]\n",
    "    b1 = b1_dict[toPlot_b1]\n",
    "\n",
    "    w0w1 = w0 * w1\n",
    "    b0b1 = b0 * b0\n",
    "    b0b1_mean = np.mean(b0b1)\n",
    "\n",
    "    normalized = w0w1/b0b1_mean\n",
    "\n",
    "    plt.hist(normalized, 100, histtype='stepfilled', alpha=0.25, color='greenyellow', edgecolor='black', lw=2)\n",
    "    plt.hist(normalized, 100, histtype='stepfilled', edgecolor='black', facecolor=\"None\")\n",
    "    plt.yscale(\"log\")\n",
    "    plt.xlabel(\"W0W1/<B0B1>\")\n",
    "    plt.ylabel(\"pdf\")\n",
    "    plt.show()"
   ]
  },
  {
   "cell_type": "code",
   "execution_count": 6,
   "metadata": {},
   "outputs": [
    {
     "data": {
      "image/png": "[encoded data removed]",
      "text/plain": [
       "<Figure size 640x480 with 1 Axes>"
      ]
     },
     "metadata": {},
     "output_type": "display_data"
    }
   ],
   "source": [
    "w0, b0 = process_plain_grid(7)\n",
    "w1_dict = process_all_w(7,21)\n",
    "b1_dict = process_all_b(7,21)\n",
    "\n",
    "plot_hist(9, w0, b0, w1_dict, b1_dict)"
   ]
  }
 ],
 "metadata": {
  "kernelspec": {
   "display_name": "base",
   "language": "python",
   "name": "python3"
  },
  "language_info": {
   "codemirror_mode": {
    "name": "ipython",
    "version": 3
   },
   "file_extension": ".py",
   "mimetype": "text/x-python",
   "name": "python",
   "nbconvert_exporter": "python",
   "pygments_lexer": "ipython3",
   "version": "3.9.15"
  },
  "orig_nbformat": 4,
  "vscode": {
   "interpreter": {
    "hash": "0033d7dcac1815a6c6028d45838b6ab3553e70a5cd9e3ac3c654844ccfaeb0ec"
   }
  }
 },
 "nbformat": 4,
 "nbformat_minor": 2
}
